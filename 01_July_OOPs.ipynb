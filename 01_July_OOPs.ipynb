{
 "cells": [
  {
   "cell_type": "markdown",
   "id": "6c29d95d",
   "metadata": {},
   "source": [
    "## 1. What is the primary goal of Object-Oriented Programming (OOP)?\n",
    "\n",
    "**Modularity:** Classes allow you to group related data and functions together, providing a clear and modular structure to code. This promotes reusability, maintainability, and easier collaboration among developers.\n",
    "\n",
    "**Encapsulation:** OOP encapsulates data and methods within objects, hiding the internal details and providing a well-defined interface. Encapsulation enhances data security, allows for controlled access to object internals, and simplifies code maintenance and refactoring.\n",
    "\n",
    "**Abstraction:** OOP emphasizes the creation of abstract representations of real-world objects or concepts. By abstracting away irrelevant details, developers can focus on essential characteristics and behaviors, making the system more understandable and manageable.\n",
    "\n",
    "**Inheritance:** OOP supports inheritance, which enables the creation of new classes (derived or child classes) by inheriting properties and behaviors from existing classes (base or parent classes). Inheritance facilitates code reuse, promotes a hierarchical organization of objects, and allows for specialization and generalization of classes.\n",
    "\n",
    "**Polymorphism:** OOP allows objects of different classes to be treated interchangeably through a common interface. Polymorphism enables the use of generic code that can operate on different objects, providing flexibility and extensibility."
   ]
  },
  {
   "cell_type": "markdown",
   "id": "136afa95",
   "metadata": {},
   "source": [
    "## 2. What is an object in Python?\n",
    "\n",
    "instance of a class."
   ]
  },
  {
   "cell_type": "code",
   "execution_count": 2,
   "id": "e1a42879",
   "metadata": {},
   "outputs": [
    {
     "name": "stdout",
     "output_type": "stream",
     "text": [
      "Toyota\n",
      "2024\n",
      "Engine started.\n"
     ]
    }
   ],
   "source": [
    "# Defining a class\n",
    "class Car:\n",
    "    def __init__(self, make,year):\n",
    "        self.make = make\n",
    "        self.year = year\n",
    "\n",
    "    def start_engine(self):\n",
    "        print(\"Engine started.\")\n",
    "\n",
    "# Creating an object (instance) of the class\n",
    "my_car = Car(\"Toyota\", 2024)\n",
    "\n",
    "# Accessing object attributes\n",
    "print(my_car.make)   # Output: Toyota\n",
    "print(my_car.year)   # Output: 2022\n",
    "\n",
    "# Calling object methods\n",
    "my_car.start_engine()  # Output: Engine started."
   ]
  },
  {
   "cell_type": "markdown",
   "id": "7494a79d",
   "metadata": {},
   "source": [
    "## 3. What is a class in Python?\n",
    "\n",
    "class is a blueprint or a template for creating objects. It serves as a logical structure that defines the attributes (data) and behaviors (methods) that objects of that class will have"
   ]
  },
  {
   "cell_type": "markdown",
   "id": "c89c223c",
   "metadata": {},
   "source": [
    "## 4. What are attributes and methods in a class?\n",
    "\n",
    "**Attributes:**\n",
    "Attributes are variables that hold data associated with a class or its objects. They represent the characteristics or properties of objects. Each object created from a class has its own set of attribute values.\n",
    "\n",
    "**Methods:**\n",
    "Methods are functions defined within a class that define the behavior or actions that objects of that class can perform. They represent the operations or functionalities associated with the class."
   ]
  },
  {
   "cell_type": "code",
   "execution_count": 3,
   "id": "92ea273f",
   "metadata": {},
   "outputs": [],
   "source": [
    "class Car:\n",
    "    def __init__(self, make, model, year):\n",
    "        self.make = make ## Attributes\n",
    "        self.year = year  ## Attributes\n",
    "\n",
    "    def start_engine(self): #method\n",
    "        print(\"Engine started.\")\n"
   ]
  },
  {
   "cell_type": "markdown",
   "id": "f8a1e6b8",
   "metadata": {},
   "source": [
    "\n",
    "## 5. What is the difference between class variables and instance variables in Python?\n",
    "\n",
    "**Class Variables:**\n",
    "Class variables are defined within the class but outside any methods.\n",
    "They are shared among all instances (objects) of the class.\n",
    "Class variables are accessed using the class name (ClassName.variable) or through an instance (object.variable), both referencing the same variable.\n",
    "Class variables are typically used to store data that is common to all objects of the class.\n",
    "Modifying a class variable affects all instances of the class.\n",
    "\n",
    "**Instance Variables:**\n",
    "Instance variables are specific to each instance (object) of a class.\n",
    "They are defined within the class's methods, typically within the __init__ method (constructor).\n",
    "Each instance has its own separate copy of the instance variables.\n",
    "Instance variables are accessed using the instance name (object.variable).\n",
    "They are used to store data that varies between instances."
   ]
  },
  {
   "cell_type": "code",
   "execution_count": 6,
   "id": "77bfa046",
   "metadata": {},
   "outputs": [
    {
     "name": "stdout",
     "output_type": "stream",
     "text": [
      "4\n",
      "3\n"
     ]
    }
   ],
   "source": [
    "#Class Variable\n",
    "\n",
    "class Car:\n",
    "    wheels = 4  # Class variable\n",
    "\n",
    "car1 = Car()\n",
    "\n",
    "print(car1.wheels)  # Output: 4\n",
    "\n",
    "Car.wheels = 3\n",
    "\n",
    "print(Car.wheels)  # Output: 3"
   ]
  },
  {
   "cell_type": "code",
   "execution_count": 8,
   "id": "84a08ffe",
   "metadata": {},
   "outputs": [
    {
     "name": "stdout",
     "output_type": "stream",
     "text": [
      "Toyota\n",
      "Honda\n"
     ]
    }
   ],
   "source": [
    "#Instance Variable\n",
    "\n",
    "class Car:\n",
    "    def __init__(self, make):\n",
    "        self.make = make  # Instance variable\n",
    "\n",
    "car1 = Car(\"Toyota\")\n",
    "car2 = Car(\"Honda\")\n",
    "\n",
    "print(car1.make)  # Output: Toyota\n",
    "print(car2.make)  # Output: Honda\n"
   ]
  },
  {
   "cell_type": "markdown",
   "id": "724b16ef",
   "metadata": {},
   "source": [
    "## 6. What is the purpose of the self parameter in Python class methods?\n",
    "\n",
    "self parameter is a convention used to refer to the instance of the class itself. It acts as a reference to the object on which the method is being called. The purpose of the self parameter is to allow methods to access and manipulate the object's instance variables and other attributes.\n",
    "\n",
    "When a method is called on an object, the self parameter is automatically passed as the first argument, providing a way for the method to reference and operate on the specific instance of the class."
   ]
  },
  {
   "cell_type": "markdown",
   "id": "0fc0dd6d",
   "metadata": {},
   "source": [
    "## 7. For a library management system, you have to design the \"Book\" class with OOP principles in mind. The “Book” class will have following attributes:\n",
    "\n",
    "a. title: Represents the title of the book.\n",
    "\n",
    "b. author: Represents the author(s) of the book.\n",
    "\n",
    "c. isbn: Represents the ISBN (International Standard Book Number) of the book.\n",
    "\n",
    "d. publication_year: Represents the year of publication of the book.\n",
    "\n",
    "e. available_copies: Represents the number of copies available for checkout.\n",
    "\n",
    "### The class will also include the following methods:\n",
    "\n",
    "a. check_out(self): Decrements the available copies by one if there are copies\n",
    "available for checkout.\n",
    "\n",
    "b. return_book(self): Increments the available copies by one when a book is\n",
    "returned.\n",
    "\n",
    "c. display_book_info(self): Displays the information about the book, including its\n",
    "attributes and the number of available copies."
   ]
  },
  {
   "cell_type": "code",
   "execution_count": 9,
   "id": "1beda0c0",
   "metadata": {},
   "outputs": [
    {
     "name": "stdout",
     "output_type": "stream",
     "text": [
      "Title: The Catcher in the Rye\n",
      "Author(s): J.D. Salinger\n",
      "ISBN: 9780316769488\n",
      "Publication Year: 1951\n",
      "Available Copies: 3\n",
      "Book checked out successfully.\n",
      "Title: The Catcher in the Rye\n",
      "Author(s): J.D. Salinger\n",
      "ISBN: 9780316769488\n",
      "Publication Year: 1951\n",
      "Available Copies: 2\n",
      "Book returned successfully.\n",
      "Title: The Catcher in the Rye\n",
      "Author(s): J.D. Salinger\n",
      "ISBN: 9780316769488\n",
      "Publication Year: 1951\n",
      "Available Copies: 3\n"
     ]
    }
   ],
   "source": [
    "class Book:\n",
    "    def __init__(self, title, author, isbn, publication_year, available_copies):\n",
    "        self.title=title\n",
    "        self.author=author\n",
    "        self.isbn=isbn\n",
    "        self.publication_year=publication_year\n",
    "        self.available_copies=available_copies\n",
    "    def check_out(self):\n",
    "        if self.available_copies > 0:\n",
    "            self.available_copies -= 1\n",
    "            print(\"Book checked out successfully.\")\n",
    "        else:\n",
    "            print(\"No copies available for checkout.\")\n",
    "\n",
    "    def return_book(self):\n",
    "        self.available_copies += 1\n",
    "        print(\"Book returned successfully.\")\n",
    "\n",
    "    def display_book_info(self):\n",
    "        print(f\"Title: {self.title}\")\n",
    "        print(f\"Author(s): {self.author}\")\n",
    "        print(f\"ISBN: {self.isbn}\")\n",
    "        print(f\"Publication Year: {self.publication_year}\")\n",
    "        print(f\"Available Copies: {self.available_copies}\")\n",
    "        \n",
    "book1 = Book(\"The Catcher in the Rye\", \"J.D. Salinger\", \"9780316769488\", 1951, 3)\n",
    "book1.display_book_info()\n",
    "\n",
    "book1.check_out()\n",
    "book1.display_book_info()\n",
    "\n",
    "book1.return_book()\n",
    "book1.display_book_info()"
   ]
  },
  {
   "cell_type": "markdown",
   "id": "ae9baa3f",
   "metadata": {},
   "source": [
    "## 8. For a ticket booking system, you have to design the \"Ticket\" class with OOP principles in mind. The “Ticket” class should have the following attributes:\n",
    "\n",
    "a. ticket_id: Represents the unique identifier for the ticket.\n",
    "\n",
    "b. event_name: Represents the name of the event.\n",
    "\n",
    "c. event_date: Represents the date of the event.\n",
    "\n",
    "d. venue: Represents the venue of the event.\n",
    "\n",
    "e. seat_number: Represents the seat number associated with the ticket.\n",
    "\n",
    "f. price: Represents the price of the ticket.\n",
    "\n",
    "g. is_reserved: Represents the reservation status of the ticket.\n",
    "\n",
    "### The class also includes the following methods:\n",
    "\n",
    "a. reserve_ticket(self): Marks the ticket as reserved if it is not already reserved.\n",
    "\n",
    "b. cancel_reservation(self): Cancels the reservation of the ticket if it is already\n",
    "reserved.\n",
    "\n",
    "c. display_ticket_info(self): Displays the information about the ticket, including its\n",
    "attributes and reservation status."
   ]
  },
  {
   "cell_type": "code",
   "execution_count": 11,
   "id": "90e479b0",
   "metadata": {},
   "outputs": [
    {
     "name": "stdout",
     "output_type": "stream",
     "text": [
      "Ticket ID: T001\n",
      "Event Name: Concert\n",
      "Event Date: 2023-07-12\n",
      "Venue: Stadium\n",
      "Seat Number: A5\n",
      "Price: 50.0\n",
      "Reservation Status: Not Reserved\n",
      "Ticket reserved successfully.\n",
      "Ticket ID: T001\n",
      "Event Name: Concert\n",
      "Event Date: 2023-07-12\n",
      "Venue: Stadium\n",
      "Seat Number: A5\n",
      "Price: 50.0\n",
      "Reservation Status: Reserved\n",
      "Reservation canceled successfully.\n",
      "Ticket ID: T001\n",
      "Event Name: Concert\n",
      "Event Date: 2023-07-12\n",
      "Venue: Stadium\n",
      "Seat Number: A5\n",
      "Price: 50.0\n",
      "Reservation Status: Not Reserved\n"
     ]
    }
   ],
   "source": [
    "class Ticket:\n",
    "    def __init__(self, ticket_id, event_name, event_date, venue, seat_number, price):\n",
    "        self.ticket_id = ticket_id\n",
    "        self.event_name = event_name\n",
    "        self.event_date = event_date\n",
    "        self.venue = venue\n",
    "        self.seat_number = seat_number\n",
    "        self.price = price\n",
    "        self.is_reserved = False\n",
    "\n",
    "    def reserve_ticket(self):\n",
    "        if not self.is_reserved:\n",
    "            self.is_reserved = True\n",
    "            print(\"Ticket reserved successfully.\")\n",
    "        else:\n",
    "            print(\"Ticket is already reserved.\")\n",
    "\n",
    "    def cancel_reservation(self):\n",
    "        if self.is_reserved:\n",
    "            self.is_reserved = False\n",
    "            print(\"Reservation canceled successfully.\")\n",
    "        else:\n",
    "            print(\"Ticket is not reserved.\")\n",
    "\n",
    "    def display_ticket_info(self):\n",
    "        print(f\"Ticket ID: {self.ticket_id}\")\n",
    "        print(f\"Event Name: {self.event_name}\")\n",
    "        print(f\"Event Date: {self.event_date}\")\n",
    "        print(f\"Venue: {self.venue}\")\n",
    "        print(f\"Seat Number: {self.seat_number}\")\n",
    "        print(f\"Price: {self.price}\")\n",
    "        print(f\"Reservation Status: {'Reserved' if self.is_reserved else 'Not Reserved'}\")\n",
    "\n",
    "\n",
    "# Example usage:\n",
    "ticket1 = Ticket(\"T001\", \"Concert\", \"2023-07-12\", \"Stadium\", \"A5\", 50.00)\n",
    "ticket1.display_ticket_info()\n",
    "\n",
    "ticket1.reserve_ticket()\n",
    "ticket1.display_ticket_info()\n",
    "\n",
    "ticket1.cancel_reservation()\n",
    "ticket1.display_ticket_info()\n"
   ]
  },
  {
   "cell_type": "markdown",
   "id": "1bb3a01e",
   "metadata": {},
   "source": [
    "## 9. You are creating a shopping cart for an e-commerce website. Using OOP to model the \"ShoppingCart\" functionality the class should contain following attributes and methods:\n",
    "\n",
    "a. items: Represents the list of items in the shopping cart.\n",
    "\n",
    "### The class also includes the following methods:\n",
    "\n",
    "a. add_item(self, item): Adds an item to the shopping cart by appending it to the\n",
    "list of items.\n",
    "\n",
    "b. remove_item(self, item): Removes an item from the shopping cart if it exists in\n",
    "the list.\n",
    "\n",
    "c. view_cart(self): Displays the items currently present in the shopping cart.\n",
    "\n",
    "d. clear_cart(self): Clears all items from the shopping cart by reassigning an\n",
    "empty list to the items attribute."
   ]
  },
  {
   "cell_type": "code",
   "execution_count": 12,
   "id": "674597a7",
   "metadata": {},
   "outputs": [
    {
     "name": "stdout",
     "output_type": "stream",
     "text": [
      "The shopping cart is empty.\n",
      "Item 'Shirt' added to the shopping cart.\n",
      "Item 'Pants' added to the shopping cart.\n",
      "Item 'Shoes' added to the shopping cart.\n",
      "Items in the shopping cart:\n",
      "- Shirt\n",
      "- Pants\n",
      "- Shoes\n",
      "Item 'Pants' removed from the shopping cart.\n",
      "Items in the shopping cart:\n",
      "- Shirt\n",
      "- Shoes\n",
      "Shopping cart cleared.\n",
      "The shopping cart is empty.\n"
     ]
    }
   ],
   "source": [
    "class ShoppingCart:\n",
    "    def __init__(self):\n",
    "        self.items = []\n",
    "\n",
    "    def add_item(self, item):\n",
    "        self.items.append(item)\n",
    "        print(f\"Item '{item}' added to the shopping cart.\")\n",
    "\n",
    "    def remove_item(self, item):\n",
    "        if item in self.items:\n",
    "            self.items.remove(item)\n",
    "            print(f\"Item '{item}' removed from the shopping cart.\")\n",
    "        else:\n",
    "            print(f\"Item '{item}' is not in the shopping cart.\")\n",
    "\n",
    "    def view_cart(self):\n",
    "        if self.items:\n",
    "            print(\"Items in the shopping cart:\")\n",
    "            for item in self.items:\n",
    "                print(f\"- {item}\")\n",
    "        else:\n",
    "            print(\"The shopping cart is empty.\")\n",
    "\n",
    "    def clear_cart(self):\n",
    "        self.items = []\n",
    "        print(\"Shopping cart cleared.\")\n",
    "\n",
    "\n",
    "\n",
    "cart = ShoppingCart()\n",
    "\n",
    "cart.view_cart()  # Output: The shopping cart is empty.\n",
    "\n",
    "cart.add_item(\"Shirt\")\n",
    "cart.add_item(\"Pants\")\n",
    "cart.add_item(\"Shoes\")\n",
    "\n",
    "cart.view_cart()\n",
    "\n",
    "\n",
    "cart.remove_item(\"Pants\")\n",
    "\n",
    "cart.view_cart()\n",
    "\n",
    "\n",
    "cart.clear_cart()\n",
    "cart.view_cart()  # Output: The shopping cart is empty.\n"
   ]
  },
  {
   "cell_type": "markdown",
   "id": "716dec2a",
   "metadata": {},
   "source": [
    "## 10. Imagine a school management system. You have to design the \"Student\" class using OOP concepts.The “Student” class has the following attributes:\n",
    "\n",
    "a. name: Represents the name of the student.\n",
    "\n",
    "b. age: Represents the age of the student.\n",
    "\n",
    "c. grade: Represents the grade or class of the student.\n",
    "\n",
    "d. student_id: Represents the unique identifier for the student.\n",
    "\n",
    "e. attendance: Represents the attendance record of the student.\n",
    "\n",
    "### The class should also include the following methods:\n",
    "\n",
    "a. update_attendance(self, date, status): Updates the attendance record of the\n",
    "student for a given date with the provided status (e.g., present or absent).\n",
    "\n",
    "b. get_attendance(self): Returns the attendance record of the student.\n",
    "\n",
    "c. get_average_attendance(self): Calculates and returns the average\n",
    "attendance percentage of the student based on their attendance record."
   ]
  },
  {
   "cell_type": "code",
   "execution_count": 13,
   "id": "ba698710",
   "metadata": {},
   "outputs": [
    {
     "name": "stdout",
     "output_type": "stream",
     "text": [
      "{'2023-07-01': 'present', '2023-07-02': 'present', '2023-07-03': 'absent', '2023-07-04': 'present'}\n",
      "Average Attendance: 75.0%\n"
     ]
    }
   ],
   "source": [
    "class Student:\n",
    "    def __init__(self, name, age, grade, student_id):\n",
    "        self.name = name\n",
    "        self.age = age\n",
    "        self.grade = grade\n",
    "        self.student_id = student_id\n",
    "        self.attendance = {}\n",
    "\n",
    "    def update_attendance(self, date, status):\n",
    "        self.attendance[date] = status\n",
    "\n",
    "    def get_attendance(self):\n",
    "        return self.attendance\n",
    "\n",
    "    def get_average_attendance(self):\n",
    "        total_days = len(self.attendance)\n",
    "        present_days = sum(value == 'present' for value in self.attendance.values())\n",
    "        attendance_percentage = (present_days / total_days) * 100 if total_days > 0 else 0\n",
    "        return attendance_percentage\n",
    "\n",
    "\n",
    "\n",
    "student1 = Student(\"John Doe\", 16, \"Grade 10\", \"A001\")\n",
    "\n",
    "student1.update_attendance(\"2023-07-01\", \"present\")\n",
    "student1.update_attendance(\"2023-07-02\", \"present\")\n",
    "student1.update_attendance(\"2023-07-03\", \"absent\")\n",
    "student1.update_attendance(\"2023-07-04\", \"present\")\n",
    "\n",
    "attendance_record = student1.get_attendance()\n",
    "print(attendance_record)\n",
    "\n",
    "\n",
    "average_attendance = student1.get_average_attendance()\n",
    "print(f\"Average Attendance: {average_attendance}%\")\n",
    "\n"
   ]
  }
 ],
 "metadata": {
  "kernelspec": {
   "display_name": "Python 3 (ipykernel)",
   "language": "python",
   "name": "python3"
  },
  "language_info": {
   "codemirror_mode": {
    "name": "ipython",
    "version": 3
   },
   "file_extension": ".py",
   "mimetype": "text/x-python",
   "name": "python",
   "nbconvert_exporter": "python",
   "pygments_lexer": "ipython3",
   "version": "3.10.9"
  }
 },
 "nbformat": 4,
 "nbformat_minor": 5
}
