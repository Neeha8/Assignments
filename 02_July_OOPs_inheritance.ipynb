{
 "cells": [
  {
   "cell_type": "markdown",
   "id": "f6f901f9",
   "metadata": {},
   "source": [
    "## 1. Explain what inheritance is in object-oriented programming and why it is used.\n",
    "\n",
    "Inheritance allows the creation of new classes (derived classes or subclasses) based on existing classes (base classes or superclasses). It enables the derived classes to inherit attributes and behaviors (methods) from the base classes, promoting code reuse and providing a hierarchical structure to organize and model relationships between classes.\n",
    "\n",
    "**Code Reusability:** Inheritance allows the derived classes to inherit attributes and behaviors from the base class, avoiding the need to rewrite the same code multiple times. It promotes code reuse and reduces duplication, leading to more efficient and maintainable code.\n",
    "\n",
    "**Modularity and Encapsulation:** Inheritance supports the concept of modularity and encapsulation. It allows the base class to define common attributes and behaviors, encapsulating them in a single class. The derived classes can then specialize or extend the functionality of the base class by adding new attributes and methods or overriding existing ones.\n",
    "\n",
    "**Polymorphism:** Inheritance enables polymorphism, which is the ability of objects of different classes to be treated as objects of a common superclass. This allows for more flexible and extensible code, as objects can be used interchangeably based on their shared superclass. Polymorphism simplifies the design and implementation of algorithms that can operate on objects of multiple related classes.\n",
    "\n",
    "**Hierarchical Organization:** Inheritance provides a hierarchical structure to organize classes, representing relationships such as \"is-a\" or \"kind-of\" relationships. For example, a derived class \"Car\" can inherit from a base class \"Vehicle,\" indicating that a car is a specific type of vehicle. This hierarchical organization enhances code readability and understandability, as it reflects the natural relationships between objects in the real world.\n",
    "\n",
    "**Overriding and Extending Functionality:** Derived classes can override methods from the base class, allowing them to provide their own implementation of the method. "
   ]
  },
  {
   "cell_type": "markdown",
   "id": "dc3bc55d",
   "metadata": {},
   "source": [
    "## 2. Discuss the concept of single inheritance and multiple inheritance, highlighting their differences and advantages.\n",
    "\n",
    "**Single Inheritance:** refers to the concept where a derived class (subclass) inherits from a single base class (superclass). In this approach, a derived class can only have one immediate parent class.\n",
    "\n",
    "**Advantages:**\n",
    "\n",
    "**Simplicity:** Single inheritance offers a straightforward and easy-to-understand class hierarchy. The relationship between classes is clear, making the codebase more readable and maintainable.\n",
    "\n",
    "**Code Reusability:** Single inheritance promotes code reuse by allowing derived classes to inherit and use the attributes and behaviors of a single base class.\n",
    "\n",
    "**Encapsulation:** Single inheritance helps maintain encapsulation by keeping the implementation details of the base class separate from the derived class.\n",
    "\n",
    "**Multiple Inheritance:** allows a derived class to inherit attributes and behaviors from multiple base classes. In this approach, a derived class can have multiple immediate parent classes, forming a more complex inheritance hierarchy.\n",
    "\n",
    "**Advantages:**\n",
    "\n",
    "**Code Reusability and Modularity:** Multiple inheritance enhances code reuse by allowing a class to inherit from multiple base classes, incorporating their functionalities. It enables the composition of different behaviors and attributes from different classes, resulting in more modular and reusable code.\n",
    "\n",
    "**Richer Class Hierarchy:** Multiple inheritance enables the creation of a more flexible and expressive class hierarchy by modeling complex relationships and capturing different aspects of an object's behavior from multiple sources.\n",
    "\n",
    "**Polymorphism:** Multiple inheritance facilitates polymorphism by allowing objects to be treated as instances of multiple related classes. This provides flexibility and extensibility in designing and implementing algorithms.\n",
    "\n",
    "**Differences between Single Inheritance and Multiple Inheritance:**\n",
    "\n",
    "**Number of Base Classes:** Single inheritance allows a derived class to inherit from only one base class, while multiple inheritance allows a derived class to inherit from multiple base classes.\n",
    "\n",
    "**Hierarchy Structure:** Single inheritance creates a linear hierarchy, where a derived class has only one immediate parent class. Multiple inheritance creates a more complex hierarchy, where a derived class can have multiple immediate parent classes.\n",
    "\n",
    "**Code Reusability and Flexibility:** Single inheritance provides simplicity and a clear relationship between classes. Multiple inheritance provides more code reuse possibilities, flexibility in combining behaviors from different classes, and the ability to model complex relationships."
   ]
  },
  {
   "cell_type": "markdown",
   "id": "2711245d",
   "metadata": {},
   "source": [
    "## 3. Explain the terms \"base class\" and \"derived class\" in the context of inheritance.\n",
    "\n",
    "**Base Class (Superclass):**\n",
    "\n",
    "The base class, also known as the superclass or parent class, is the class from which other classes inherit attributes and behaviors.\n",
    "The base class defines the common attributes and behaviors that are shared by its derived classes.\n",
    "\n",
    "**Example:** Consider a base class called Animal that defines common attributes and methods for all animals. Derived classes like Dog, Cat, and Bird can inherit from Animal and extend or specialize its attributes and behaviors.\n",
    "\n",
    "**Derived Class (Subclass):**\n",
    "\n",
    "The derived class, also known as the subclass or child class, is a class that inherits attributes and behaviors from a base class.\n",
    "It extends or specializes the base class by adding new attributes and methods or overriding the existing ones.\n",
    "Derived classes inherit the attributes and behaviors of the base class and can have their own additional attributes and behaviors.\n",
    "Derived classes can be further inherited by other classes, forming a hierarchical structure of classes.\n",
    "\n",
    "**Example:** Continuing from the previous example, the Dog class can be a derived class of Animal, inheriting attributes and behaviors from the base class. It can have additional attributes and methods specific to dogs, such as breed and bark()."
   ]
  },
  {
   "cell_type": "markdown",
   "id": "b63d127a",
   "metadata": {},
   "source": [
    "## 4. What is the significance of the \"protected\" access modifier in inheritance? How does it differ from \"private\" and \"public\" modifiers?\n",
    "\n",
    "**\"protected\"** access modifier is denoted by a single underscore (_) prefix before an attribute or method name. It signifies that the attribute or method is intended to be accessible within the class itself and its subclasses (derived classes), but not from outside the class hierarchy.\n",
    "\n",
    "The significance of the \"protected\" access modifier in inheritance is to provide a level of restriction and encapsulation. It allows derived classes to access and use the protected attributes and methods of the parent class, while still preventing direct access from outside the class hierarchy.\n",
    "\n",
    "\n",
    "**\"protected\" access modifier differs from \"private\" and \"public\"** in terms of intended access and visibility. While **public attributes and methods** are accessible everywhere, **protected attributes and methods** are intended to be accessible within the class and its subclasses. **Private attributes and methods** are strictly limited to access within the class itself.\n"
   ]
  },
  {
   "cell_type": "markdown",
   "id": "22e6a177",
   "metadata": {},
   "source": [
    "## 5. What is the purpose of the \"super\" keyword in inheritance? Provide an example.\n",
    "\n",
    "The super keyword in inheritance is used to call a method from the parent class"
   ]
  },
  {
   "cell_type": "code",
   "execution_count": 6,
   "id": "3c1e0c3c",
   "metadata": {},
   "outputs": [
    {
     "name": "stdout",
     "output_type": "stream",
     "text": [
      "Engine started.\n",
      "Car engine started.\n"
     ]
    }
   ],
   "source": [
    "class Vehicle:\n",
    "    def __init__(self, brand):\n",
    "        self.brand = brand\n",
    "\n",
    "    def start_engine(self):\n",
    "        print(\"Engine started.\")\n",
    "\n",
    "\n",
    "class Car(Vehicle):\n",
    "    def __init__(self, brand, model):\n",
    "        super().__init__(brand)\n",
    "        self.model = model\n",
    "\n",
    "    def start_engine(self):\n",
    "        super().start_engine()\n",
    "        print(\"Car engine started.\")\n",
    "\n",
    "\n",
    "car1 = Car(\"Toyota\", \"Camry\")\n",
    "car1.start_engine()"
   ]
  },
  {
   "cell_type": "markdown",
   "id": "988e96f3",
   "metadata": {},
   "source": [
    "## 6. Create a base class called \"Vehicle\" with attributes like \"make\", \"model\", and \"year\". Then, create a derived class called \"Car\" that inherits from \"Vehicle\" and adds an attribute called \"fuel_type\". Implement appropriate methods in both classes."
   ]
  },
  {
   "cell_type": "code",
   "execution_count": 1,
   "id": "5e3d99e5",
   "metadata": {},
   "outputs": [
    {
     "name": "stdout",
     "output_type": "stream",
     "text": [
      "Make: Toyota\n",
      "Model: Camry\n",
      "Year: 2022\n",
      "Make: Honda\n",
      "Model: Accord\n",
      "Year: 2023\n",
      "Fuel Type: Petrol\n"
     ]
    }
   ],
   "source": [
    "class Vehicle:\n",
    "    def __init__(self, make, model, year):\n",
    "        self.make = make\n",
    "        self.model = model\n",
    "        self.year = year\n",
    "\n",
    "    def display_info(self):\n",
    "        print(f\"Make: {self.make}\")\n",
    "        print(f\"Model: {self.model}\")\n",
    "        print(f\"Year: {self.year}\")\n",
    "\n",
    "\n",
    "class Car(Vehicle):\n",
    "    def __init__(self, make, model, year, fuel_type):\n",
    "        super().__init__(make, model, year)\n",
    "        self.fuel_type = fuel_type\n",
    "\n",
    "    def display_info(self):\n",
    "        super().display_info()\n",
    "        print(f\"Fuel Type: {self.fuel_type}\")\n",
    "\n",
    "\n",
    "vehicle1 = Vehicle(\"Toyota\", \"Camry\", 2022)\n",
    "vehicle1.display_info()\n",
    "\n",
    "\n",
    "car1 = Car(\"Honda\", \"Accord\", 2023, \"Petrol\")\n",
    "car1.display_info()"
   ]
  },
  {
   "cell_type": "markdown",
   "id": "045797da",
   "metadata": {},
   "source": [
    "## 7. Create a base class called \"Employee\" with attributes like \"name\" and \"salary.\" Derive two classes, \"Manager\" and \"Developer,\" from \"Employee.\" Add an additional attribute called \"department\" for the \"Manager\" class and \"programming_language\" for the \"Developer\" class."
   ]
  },
  {
   "cell_type": "code",
   "execution_count": 2,
   "id": "cb5daf39",
   "metadata": {},
   "outputs": [
    {
     "name": "stdout",
     "output_type": "stream",
     "text": [
      "Name: John Doe\n",
      "Salary: 5000\n",
      "Name: Jane Smith\n",
      "Salary: 8000\n",
      "Department: IT\n",
      "Name: Alice Johnson\n",
      "Salary: 6000\n",
      "Programming Language: Python\n"
     ]
    }
   ],
   "source": [
    "class Employee:\n",
    "    def __init__(self, name, salary):\n",
    "        self.name = name\n",
    "        self.salary = salary\n",
    "\n",
    "    def display_info(self):\n",
    "        print(f\"Name: {self.name}\")\n",
    "        print(f\"Salary: {self.salary}\")\n",
    "\n",
    "\n",
    "class Manager(Employee):\n",
    "    def __init__(self, name, salary, department):\n",
    "        super().__init__(name, salary)\n",
    "        self.department = department\n",
    "\n",
    "    def display_info(self):\n",
    "        super().display_info()\n",
    "        print(f\"Department: {self.department}\")\n",
    "\n",
    "\n",
    "class Developer(Employee):\n",
    "    def __init__(self, name, salary, programming_language):\n",
    "        super().__init__(name, salary)\n",
    "        self.programming_language = programming_language\n",
    "\n",
    "    def display_info(self):\n",
    "        super().display_info()\n",
    "        print(f\"Programming Language: {self.programming_language}\")\n",
    "\n",
    "\n",
    "employee1 = Employee(\"John Doe\", 5000)\n",
    "employee1.display_info()\n",
    "\n",
    "manager1 = Manager(\"Jane Smith\", 8000, \"IT\")\n",
    "manager1.display_info()\n",
    "\n",
    "developer1 = Developer(\"Alice Johnson\", 6000, \"Python\")\n",
    "developer1.display_info()\n"
   ]
  },
  {
   "cell_type": "markdown",
   "id": "fe9747af",
   "metadata": {},
   "source": [
    "## 8. Design a base class called \"Shape\" with attributes like \"colour\" and \"border_width.\" Create derived classes, \"Rectangle\" and \"Circle,\" that inherit from \"Shape\" and add specific attributes like \"length\" and \"width\" for the \"Rectangle\" class and \"radius\" for the \"Circle\" class."
   ]
  },
  {
   "cell_type": "code",
   "execution_count": 3,
   "id": "3e00e019",
   "metadata": {},
   "outputs": [
    {
     "name": "stdout",
     "output_type": "stream",
     "text": [
      "Colour: Blue\n",
      "Border Width: 2\n",
      "Colour: Red\n",
      "Border Width: 1\n",
      "Length: 5\n",
      "Width: 3\n",
      "Colour: Green\n",
      "Border Width: 1.5\n",
      "Radius: 4\n"
     ]
    }
   ],
   "source": [
    "class Shape:\n",
    "    def __init__(self, colour, border_width):\n",
    "        self.colour = colour\n",
    "        self.border_width = border_width\n",
    "\n",
    "    def display_info(self):\n",
    "        print(f\"Colour: {self.colour}\")\n",
    "        print(f\"Border Width: {self.border_width}\")\n",
    "\n",
    "\n",
    "class Rectangle(Shape):\n",
    "    def __init__(self, colour, border_width, length, width):\n",
    "        super().__init__(colour, border_width)\n",
    "        self.length = length\n",
    "        self.width = width\n",
    "\n",
    "    def display_info(self):\n",
    "        super().display_info()\n",
    "        print(f\"Length: {self.length}\")\n",
    "        print(f\"Width: {self.width}\")\n",
    "\n",
    "\n",
    "class Circle(Shape):\n",
    "    def __init__(self, colour, border_width, radius):\n",
    "        super().__init__(colour, border_width)\n",
    "        self.radius = radius\n",
    "\n",
    "    def display_info(self):\n",
    "        super().display_info()\n",
    "        print(f\"Radius: {self.radius}\")\n",
    "\n",
    "\n",
    "\n",
    "shape1 = Shape(\"Blue\", 2)\n",
    "shape1.display_info()\n",
    "\n",
    "rectangle1 = Rectangle(\"Red\", 1, 5, 3)\n",
    "rectangle1.display_info()\n",
    "\n",
    "circle1 = Circle(\"Green\", 1.5, 4)\n",
    "circle1.display_info()"
   ]
  },
  {
   "cell_type": "markdown",
   "id": "3c5f59fe",
   "metadata": {},
   "source": [
    "## 9. Create a base class called \"Device\" with attributes like \"brand\" and \"model.\" Derive two classes, \"Phone\" and \"Tablet,\" from \"Device.\" Add specific attributes like \"screen_size\" for the \"Phone\" class and \"battery_capacity\" for the \"Tablet\" class."
   ]
  },
  {
   "cell_type": "code",
   "execution_count": 4,
   "id": "adc2344f",
   "metadata": {},
   "outputs": [
    {
     "name": "stdout",
     "output_type": "stream",
     "text": [
      "Brand: Apple\n",
      "Model: MacBook Pro\n",
      "Brand: Samsung\n",
      "Model: Galaxy S20\n",
      "Screen Size: 6.2 inches\n",
      "Brand: Apple\n",
      "Model: iPad Pro\n",
      "Battery Capacity: 10,090 mAh\n"
     ]
    }
   ],
   "source": [
    "class Device:\n",
    "    def __init__(self, brand, model):\n",
    "        self.brand = brand\n",
    "        self.model = model\n",
    "\n",
    "    def display_info(self):\n",
    "        print(f\"Brand: {self.brand}\")\n",
    "        print(f\"Model: {self.model}\")\n",
    "\n",
    "\n",
    "class Phone(Device):\n",
    "    def __init__(self, brand, model, screen_size):\n",
    "        super().__init__(brand, model)\n",
    "        self.screen_size = screen_size\n",
    "\n",
    "    def display_info(self):\n",
    "        super().display_info()\n",
    "        print(f\"Screen Size: {self.screen_size}\")\n",
    "\n",
    "\n",
    "class Tablet(Device):\n",
    "    def __init__(self, brand, model, battery_capacity):\n",
    "        super().__init__(brand, model)\n",
    "        self.battery_capacity = battery_capacity\n",
    "\n",
    "    def display_info(self):\n",
    "        super().display_info()\n",
    "        print(f\"Battery Capacity: {self.battery_capacity}\")\n",
    "\n",
    "\n",
    "device1 = Device(\"Apple\", \"MacBook Pro\")\n",
    "device1.display_info()\n",
    "\n",
    "phone1 = Phone(\"Samsung\", \"Galaxy S20\", \"6.2 inches\")\n",
    "phone1.display_info()\n",
    "\n",
    "tablet1 = Tablet(\"Apple\", \"iPad Pro\", \"10,090 mAh\")\n",
    "tablet1.display_info()"
   ]
  },
  {
   "cell_type": "markdown",
   "id": "921e3914",
   "metadata": {},
   "source": [
    "## 10. Create a base class called \"BankAccount\" with attributes like \"account_number\" and \"balance.\" Derive two classes, \"SavingsAccount\" and \"CheckingAccount,\" from \"BankAccount.\" Add specific methods like \"calculate_interest\" for the \"SavingsAccount\" class and \"deduct_fees\" for the \"CheckingAccount\" class."
   ]
  },
  {
   "cell_type": "code",
   "execution_count": 5,
   "id": "3c7a658a",
   "metadata": {},
   "outputs": [
    {
     "name": "stdout",
     "output_type": "stream",
     "text": [
      "Account Number: A001\n",
      "Balance: $1000.00\n",
      "Account Number: S001\n",
      "Balance: $2000.00\n",
      "Interest calculated and added to the account: $100.00\n",
      "Account Number: S001\n",
      "Balance: $2100.00\n",
      "Account Number: C001\n",
      "Balance: $500.00\n",
      "Fees deducted from the account: $50.00\n",
      "Account Number: C001\n",
      "Balance: $450.00\n"
     ]
    }
   ],
   "source": [
    "class BankAccount:\n",
    "    def __init__(self, account_number, balance):\n",
    "        self.account_number = account_number\n",
    "        self.balance = balance\n",
    "\n",
    "    def display_info(self):\n",
    "        print(f\"Account Number: {self.account_number}\")\n",
    "        print(f\"Balance: ${self.balance:.2f}\")\n",
    "\n",
    "\n",
    "class SavingsAccount(BankAccount):\n",
    "    def __init__(self, account_number, balance):\n",
    "        super().__init__(account_number, balance)\n",
    "\n",
    "    def calculate_interest(self, interest_rate):\n",
    "        interest = self.balance * interest_rate\n",
    "        self.balance += interest\n",
    "        print(f\"Interest calculated and added to the account: ${interest:.2f}\")\n",
    "\n",
    "\n",
    "class CheckingAccount(BankAccount):\n",
    "    def __init__(self, account_number, balance):\n",
    "        super().__init__(account_number, balance)\n",
    "\n",
    "    def deduct_fees(self, fee_amount):\n",
    "        if self.balance >= fee_amount:\n",
    "            self.balance -= fee_amount\n",
    "            print(f\"Fees deducted from the account: ${fee_amount:.2f}\")\n",
    "        else:\n",
    "            print(\"Insufficient balance to deduct fees.\")\n",
    "\n",
    "\n",
    "\n",
    "account1 = BankAccount(\"A001\", 1000.00)\n",
    "account1.display_info()\n",
    "\n",
    "savings_account1 = SavingsAccount(\"S001\", 2000.00)\n",
    "savings_account1.display_info()\n",
    "\n",
    "savings_account1.calculate_interest(0.05)\n",
    "savings_account1.display_info()\n",
    "\n",
    "checking_account1 = CheckingAccount(\"C001\", 500.00)\n",
    "checking_account1.display_info()\n",
    "\n",
    "checking_account1.deduct_fees(50.00)\n",
    "checking_account1.display_info()"
   ]
  }
 ],
 "metadata": {
  "kernelspec": {
   "display_name": "Python 3 (ipykernel)",
   "language": "python",
   "name": "python3"
  },
  "language_info": {
   "codemirror_mode": {
    "name": "ipython",
    "version": 3
   },
   "file_extension": ".py",
   "mimetype": "text/x-python",
   "name": "python",
   "nbconvert_exporter": "python",
   "pygments_lexer": "ipython3",
   "version": "3.10.9"
  }
 },
 "nbformat": 4,
 "nbformat_minor": 5
}
